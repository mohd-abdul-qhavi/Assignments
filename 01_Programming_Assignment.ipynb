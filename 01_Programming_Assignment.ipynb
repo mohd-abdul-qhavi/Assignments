{
 "cells": [
  {
   "cell_type": "markdown",
   "metadata": {},
   "source": [
    "#### Programming Assignment - 1"
   ]
  },
  {
   "cell_type": "markdown",
   "metadata": {},
   "source": [
    "1. Write a Python program to print 'Hello Python'?"
   ]
  },
  {
   "cell_type": "code",
   "execution_count": null,
   "metadata": {},
   "outputs": [],
   "source": [
    "print('Hello Python')"
   ]
  },
  {
   "cell_type": "markdown",
   "metadata": {},
   "source": [
    "2. Write a Python program to do arithmetical operations addition and division ?"
   ]
  },
  {
   "cell_type": "code",
   "execution_count": 1,
   "metadata": {},
   "outputs": [
    {
     "name": "stdout",
     "output_type": "stream",
     "text": [
      "Select an Arithmetic Operation:         \n",
      "1. Addition(+)        \n",
      "2. Subtraction(-)        \n",
      "3. Multiplication(*)        \n",
      "4. Division(/)        \n",
      "5. Stop(0)\n",
      "\n",
      "Program stopped successfully\n"
     ]
    }
   ],
   "source": [
    "import operator\n",
    "\n",
    "opers = {'+' : operator.add, '-' : operator.sub, '*' : operator.mul, '/' : operator.truediv }\n",
    "\n",
    "print( 'Select an Arithmetic Operation: \\\n",
    "        \\n1. Addition(+)\\\n",
    "        \\n2. Subtraction(-)\\\n",
    "        \\n3. Multiplication(*)\\\n",
    "        \\n4. Division(/)\\\n",
    "        \\n5. Stop(0)\\n'\n",
    "        )\n",
    "\n",
    "while True:\n",
    "    operator = input('Enter an Arithmetic Operation -> ')\n",
    "    if operator == '0':\n",
    "        print('Program stopped successfully')\n",
    "        break\n",
    "    elif operator not in ['+', '-', '*', '/']:\n",
    "        print('Please enter a valid operator')\n",
    "    else:\n",
    "        num_1 = int(input('\\nEnter 1st number: '))\n",
    "        num_2 = int(input('\\nEnter 2nd number: '))\n",
    "        print('{}{}{} = {}\\n'.format(num_1, operator, num_2, opers[operator](num_1, num_2)))"
   ]
  },
  {
   "cell_type": "markdown",
   "metadata": {},
   "source": [
    "3. Write a Python program to find the area of a triangle?"
   ]
  },
  {
   "cell_type": "code",
   "execution_count": 3,
   "metadata": {},
   "outputs": [
    {
     "name": "stdout",
     "output_type": "stream",
     "text": [
      "Area of the Triangle:  30.0\n"
     ]
    }
   ],
   "source": [
    "height = int(input('Height: '))\n",
    "base = int(input('Base: '))\n",
    "\n",
    "def area_of_triangle(height, base):\n",
    "    print('Area of the Triangle: ', 0.5*height*base)\n",
    "\n",
    "area_of_triangle(height, base)"
   ]
  },
  {
   "cell_type": "markdown",
   "metadata": {},
   "source": [
    "4. Write a Python program to swap two variables?"
   ]
  },
  {
   "cell_type": "code",
   "execution_count": 12,
   "metadata": {},
   "outputs": [
    {
     "name": "stdout",
     "output_type": "stream",
     "text": [
      "Before:  (5, 16)\n",
      "After:  (16, 5)\n"
     ]
    }
   ],
   "source": [
    "x = int(input('Enter 1st number: '))\n",
    "y = int(input('Enter 2nd number: '))\n",
    "\n",
    "def swap_num(a, b):\n",
    "    c = a\n",
    "    a = b\n",
    "    b = c\n",
    "    return a, b\n",
    "\n",
    "print('Before: ', (x,y))\n",
    "x, y = swap_num(x, y)\n",
    "print('After: ', (x,y))"
   ]
  },
  {
   "cell_type": "markdown",
   "metadata": {},
   "source": [
    "5. Write a Python program to generate a random number?"
   ]
  },
  {
   "cell_type": "code",
   "execution_count": 25,
   "metadata": {},
   "outputs": [
    {
     "name": "stdout",
     "output_type": "stream",
     "text": [
      "Random Number:  18\n"
     ]
    }
   ],
   "source": [
    "from random import randint\n",
    "\n",
    "a = int(input('Enter Random Number: '))\n",
    "b = int((input('Enter Random Number: ')))\n",
    "\n",
    "def rand_num(a, b):\n",
    "    print('Random Number: ', randint(a, b))\n",
    "\n",
    "rand_num(a,b)"
   ]
  }
 ],
 "metadata": {
  "kernelspec": {
   "display_name": "Python 3.10.6 64-bit",
   "language": "python",
   "name": "python3"
  },
  "language_info": {
   "codemirror_mode": {
    "name": "ipython",
    "version": 3
   },
   "file_extension": ".py",
   "mimetype": "text/x-python",
   "name": "python",
   "nbconvert_exporter": "python",
   "pygments_lexer": "ipython3",
   "version": "3.10.6"
  },
  "orig_nbformat": 4,
  "vscode": {
   "interpreter": {
    "hash": "824980c20c55a8caf2ab2613fe6a512b80283773ba55bb738e2dfb567f7a83ba"
   }
  }
 },
 "nbformat": 4,
 "nbformat_minor": 2
}
